{
 "cells": [
  {
   "cell_type": "code",
   "execution_count": 1,
   "id": "696045d5-2bd3-4f77-9bc7-4fda1d94196c",
   "metadata": {},
   "outputs": [
    {
     "data": {
      "text/html": [
       "<p>To authorize access needed by Earth Engine, open the following\n",
       "        URL in a web browser and follow the instructions:</p>\n",
       "        <p><a href=https://code.earthengine.google.com/client-auth?scopes=https%3A//www.googleapis.com/auth/earthengine%20https%3A//www.googleapis.com/auth/devstorage.full_control&request_id=6pcLsXfa9qfxLn7ymsWIQiEFgzzlcQCDJxCKhxDGy-4&tc=7TD2YZcMPLc-Wj0eX85ycbR3yWllXBm5r4ip1mFI4VI&cc=q_Aahkb31AI2lAf7RoU2ADWGts31Ok8cG5arY7sBwl8>https://code.earthengine.google.com/client-auth?scopes=https%3A//www.googleapis.com/auth/earthengine%20https%3A//www.googleapis.com/auth/devstorage.full_control&request_id=6pcLsXfa9qfxLn7ymsWIQiEFgzzlcQCDJxCKhxDGy-4&tc=7TD2YZcMPLc-Wj0eX85ycbR3yWllXBm5r4ip1mFI4VI&cc=q_Aahkb31AI2lAf7RoU2ADWGts31Ok8cG5arY7sBwl8</a></p>\n",
       "        <p>The authorization workflow will generate a code, which you should paste in the box below.</p>\n",
       "        "
      ],
      "text/plain": [
       "<IPython.core.display.HTML object>"
      ]
     },
     "metadata": {},
     "output_type": "display_data"
    },
    {
     "name": "stdout",
     "output_type": "stream",
     "text": [
      "\n",
      "Successfully saved authorization token.\n"
     ]
    }
   ],
   "source": [
    "#读取指定点的S1数据，基于gee和geemap\n",
    "import ee\n",
    "import geemap\n",
    "import os\n",
    "from osgeo import gdal\n",
    "os.environ['HTTP_PROXY'] = 'http://127.0.0.1:7890'\n",
    "os.environ['HTTPS_PROXY'] = 'http://127.0.0.1:7890'\n",
    "Map = geemap.Map()"
   ]
  },
  {
   "cell_type": "code",
   "execution_count": 5,
   "id": "87e781ff",
   "metadata": {},
   "outputs": [
    {
     "name": "stdout",
     "output_type": "stream",
     "text": [
      "Index(['General', 'Lat', 'Long', '0-10cm density kgC m-2 cm-1',\n",
      "       '0-10cm content %', '10-30cm density kgC m-2 cm-1',\n",
      "       '10-30cm content %'],\n",
      "      dtype='object')\n"
     ]
    }
   ],
   "source": [
    "#读取SOC数据并生成ee.feactureColection\n",
    "import pandas as pd\n",
    "wb= pd.read_excel('./final_data.xlsx')\n",
    "print(wb.keys())\n",
    "features=[]\n",
    "for i in range(wb.shape[0]):\n",
    "    if pd.notnull(wb['0-10cm content %'][i]):\n",
    "        lat = wb['Lat'][i]\n",
    "        long = wb['Long'][i]\n",
    "        points = ee.Geometry.Point([long,lat])\n",
    "        features.append(ee.Feature(points,{'0-10cm content':wb['0-10cm content %'][i]}))\n",
    "\n",
    "fc=ee.FeatureCollection(features)\n",
    "Map.addLayer(fc,{'color':'FF0000'},'Points')"
   ]
  },
  {
   "cell_type": "code",
   "execution_count": 3,
   "id": "c8d10543",
   "metadata": {},
   "outputs": [
    {
     "data": {
      "application/vnd.jupyter.widget-view+json": {
       "model_id": "2042f17b2ebb4211a119a38eb19ef540",
       "version_major": 2,
       "version_minor": 0
      },
      "text/plain": [
       "Map(center=[20, 0], controls=(WidgetControl(options=['position', 'transparent_bg'], widget=HBox(children=(Togg…"
      ]
     },
     "metadata": {},
     "output_type": "display_data"
    }
   ],
   "source": [
    "#roi覆盖阿拉斯加区域\n",
    "roi = ee.Geometry.Rectangle([[-180.351563,50.513427],[ -127.617188,71.965388]],geodesic=False,proj='EPSG:4326')\n",
    "Map.addLayer(roi,{'color':'ff0000','fillColor':'000000','width':3},'ROI')\n",
    "date = ee.Filter.date('2014-01-01','2016-01-01')\n",
    "image_collection=ee.ImageCollection('COPERNICUS/S1_GRD').filter(ee.Filter.bounds(roi)).filter(date)\n",
    "\n",
    "imgVV=image_collection.filter(ee.Filter.listContains('transmitterReceiverPolarisation', 'VV')).filter(ee.Filter.eq('instrumentMode', 'IW')).select('VV').mean()\n",
    "imgVH = image_collection.filter(ee.Filter.listContains('transmitterReceiverPolarisation', 'VH')).filter(ee.Filter.eq('instrumentMode', 'IW')).select('VH').mean()\n",
    "incidence_angle=image_collection.select(\"angle\").max()\n",
    "\n",
    "Map.addLayer(imgVV,{'min': -25, 'max': 1},'S1-VV')\n",
    "Map.addLayer(imgVH,{'min': -25, 'max': 1},'S1-VH')\n",
    "# Map.addLayer(incidence_angle,{'min':0,'max':90},'incidence angle')\n",
    "#现在还没想到incidence angle要怎么处理\n",
    "\n",
    "#融合VV VH波段\n",
    "img=imgVV.addBands(imgVH)\n",
    "\n",
    "Map"
   ]
  },
  {
   "cell_type": "code",
   "execution_count": 4,
   "id": "063fa5cd",
   "metadata": {},
   "outputs": [],
   "source": [
    "#采样\n",
    "import numpy as np\n",
    "fc2=img.sampleRegions(collection=fc,scale=50,geometries=True)\n",
    "fc2=fc2.toList(fc2.size().getInfo())\n",
    "fc2=fc2.getInfo()\n",
    "fc2=np.array(fc2)\n",
    "header=['Lat','Long','VH','VV','C-density']\n",
    "df=pd.DataFrame(columns=header)\n",
    "for i in range (fc2.shape[0]):\n",
    "    df_temp=pd.DataFrame([[fc2[i]['geometry']['coordinates'][1],fc2[i]['geometry']['coordinates'][0],fc2[i]['properties']['VH'],fc2[i]['properties']['VV'],fc2[i]['properties']['C-density']]],columns=header)\n",
    "    df=pd.concat([df,df_temp],ignore_index=True,axis=0)"
   ]
  },
  {
   "cell_type": "code",
   "execution_count": 5,
   "id": "f55833fb",
   "metadata": {},
   "outputs": [],
   "source": [
    "df.to_excel('data_toplayer_with_VVVH.xlsx',index=False)"
   ]
  },
  {
   "cell_type": "code",
   "execution_count": null,
   "id": "14c55311",
   "metadata": {},
   "outputs": [],
   "source": [
    "#改写geemap的fishnet函数，使之能适配\n",
    "from geemap.common import latlon_grid,ee_export_vector\n",
    "def fishnet(\n",
    "    data,\n",
    "    h_interval=1.0,\n",
    "    v_interval=1.0,\n",
    "    rows=None,\n",
    "    cols=None,\n",
    "    delta=1.0,\n",
    "    intersect=True,\n",
    "    output=None,\n",
    "    **kwargs,\n",
    "):\n",
    "    \n",
    "    \n",
    "    coords = data.getInfo()[0]['coordinates']\n",
    "\n",
    "    west = coords[0][0][0]\n",
    "    east = coords[0][1][0]\n",
    "    south = coords[0][0][1]\n",
    "    north = coords[0][2][1]\n",
    "    print(west)\n",
    "\n",
    "\n",
    "    if rows is not None and cols is not None:\n",
    "        v_interval = (north - south) / rows\n",
    "        h_interval = (east - west) / cols\n",
    "\n",
    "    # west = west - delta * h_interval\n",
    "    east = east + delta * h_interval\n",
    "    # south = south - delta * v_interval\n",
    "    north = north + delta * v_interval\n",
    "\n",
    "    grids = latlon_grid(v_interval, h_interval, west, east, south, north)\n",
    "\n",
    "    if intersect:\n",
    "        grids = grids.filterBounds(roi)\n",
    "\n",
    "    if output is not None:\n",
    "        ee_export_vector(grids, output)\n",
    "\n",
    "    else:\n",
    "        return grids\n",
    "\n",
    "\n",
    "\n",
    "fishnet = fishnet(roi.geometries(), rows=16, cols=16, delta=0.5)\n",
    "style = {'color': 'ffff00ff', 'fillColor': '00000000'}\n",
    "Map.addLayer(fishnet.style(**style), {}, 'Fishnet')\n",
    "\n",
    "\n",
    "geemap.download_ee_image_tiles(\n",
    "    imgVV, fishnet, './download', prefix=\"S1VV\", crs=\"EPSG:4326\", scale=500\n",
    ")\n"
   ]
  },
  {
   "cell_type": "code",
   "execution_count": 1,
   "id": "2df08cb5",
   "metadata": {},
   "outputs": [],
   "source": [
    "#加载数据集\n",
    "from sklearn.ensemble import RandomForestRegressor\n",
    "from sklearn.model_selection import train_test_split\n",
    "from sklearn.metrics import mean_squared_error\n",
    "import pandas as pd\n",
    "df=pd.read_excel('./data_toplayer_with_VVVH.xlsx')\n",
    "inx=[]\n",
    "for i in range(df.shape[0]):\n",
    "    if df['C-density'][i]!=0:\n",
    "        inx.append(i)\n",
    "df=df.iloc[inx,:]\n",
    "X = pd.concat([df['VH'],df['VV']],axis=1)\n",
    "y = df['C-density']\n",
    "X_train,X_test,y_train,y_test=train_test_split(X,y,train_size=0.7,shuffle=True)"
   ]
  },
  {
   "cell_type": "code",
   "execution_count": 2,
   "id": "ebbc2201",
   "metadata": {},
   "outputs": [
    {
     "name": "stdout",
     "output_type": "stream",
     "text": [
      "MSE:\t 0.5121546034139727\n",
      "R2:\t 0.3541209274202418\n"
     ]
    }
   ],
   "source": [
    "#模型训练\n",
    "model = RandomForestRegressor()\n",
    "model.fit(X_train,y_train)\n",
    "y_pred=model.predict(X_test)\n",
    "MSE=mean_squared_error(y_test,y_pred)\n",
    "R2=model.score(X_test,y_test)\n",
    "print(\"MSE:\\t\",MSE)\n",
    "print('R2:\\t',R2)"
   ]
  },
  {
   "cell_type": "code",
   "execution_count": 3,
   "id": "3771a259",
   "metadata": {},
   "outputs": [
    {
     "name": "stdout",
     "output_type": "stream",
     "text": [
      "(-157.44683514188839, 0.00044915764205976077, 0.0, 64.26571901103478, 0.0, -0.00044915764205976077)\n",
      "colum: 12716\n",
      "row 4285\n"
     ]
    }
   ],
   "source": [
    "#模型使用\n",
    "\n",
    "from osgeo import gdal\n",
    "\n",
    "filePath = 'D:/sentinel-1/test/50m_res.tif'  # tif文件路径\n",
    "dataset = gdal.Open(filePath)  # 打开tif\n",
    "\n",
    "adfGeoTransform = dataset.GetGeoTransform()  # 读取地理信息\n",
    "# geo_information(0):左上像素左上角的x坐标。\n",
    "# geo_information(1):w - e像素分辨率 / 像素宽度。\n",
    "# geo_information(2):行旋转（通常为零）。\n",
    "# geo_information(3):左上像素左上角的y坐标。\n",
    "# geo_information(4):列旋转（通常为零）。\n",
    "# geo_information(5):n - s像素分辨率 / 像素高度（北半球上图像为负值）\n",
    "\n",
    "nXSize = dataset.RasterXSize  # 列数\n",
    "nYSize = dataset.RasterYSize  # 行数\n",
    "bands=dataset.RasterCount\n",
    "print(adfGeoTransform)\n",
    "print('colum:',nXSize)\n",
    "print('row',nYSize)"
   ]
  },
  {
   "cell_type": "code",
   "execution_count": 4,
   "id": "84391dbd",
   "metadata": {},
   "outputs": [],
   "source": [
    "rawVH=dataset.GetRasterBand(1).ReadAsArray()\n",
    "rawVV=dataset.GetRasterBand(2).ReadAsArray()\n"
   ]
  },
  {
   "cell_type": "code",
   "execution_count": 7,
   "id": "f4ba9d41",
   "metadata": {},
   "outputs": [
    {
     "name": "stdout",
     "output_type": "stream",
     "text": [
      "(4285, 12716)\n"
     ]
    }
   ],
   "source": [
    "print(rawVH.shape)"
   ]
  },
  {
   "cell_type": "code",
   "execution_count": 6,
   "id": "4330b8ce",
   "metadata": {},
   "outputs": [
    {
     "name": "stdout",
     "output_type": "stream",
     "text": [
      "8.971328\n",
      "-55.134724\n"
     ]
    },
    {
     "name": "stderr",
     "output_type": "stream",
     "text": [
      "c:\\Users\\98143\\.conda\\envs\\gee\\lib\\site-packages\\sklearn\\base.py:450: UserWarning: X does not have valid feature names, but RandomForestRegressor was fitted with feature names\n",
      "  warnings.warn(\n"
     ]
    }
   ],
   "source": [
    "import numpy as np\n",
    "import pandas as pd\n",
    "print(np.max(rawVH))\n",
    "print(np.min(rawVH))\n",
    "\n",
    "VH=pd.DataFrame(rawVH.reshape(nXSize*nYSize,1))\n",
    "VV=pd.DataFrame(rawVV.reshape(nXSize*nYSize,1))\n",
    "\n",
    "X=pd.concat([VH,VV],ignore_index=True,axis=1)\n",
    "y=model.predict(X)"
   ]
  },
  {
   "cell_type": "code",
   "execution_count": 9,
   "id": "0285e5b3",
   "metadata": {},
   "outputs": [
    {
     "name": "stdout",
     "output_type": "stream",
     "text": [
      "<osgeo.gdal.Dataset; proxy of <Swig Object of type 'GDALDatasetShadow *' at 0x000001CDA6F81200> >\n"
     ]
    }
   ],
   "source": [
    "y_raster=y.reshape(nYSize,nXSize)\n",
    "\n",
    "driver = gdal.GetDriverByName(\"GTiff\")\n",
    "New_YG_dataset = driver.Create('./SOC.tif', nXSize, nYSize, 1, gdal.GDT_Float32)\n",
    "New_YG_dataset.SetGeoTransform(dataset.GetGeoTransform())\n",
    "New_YG_dataset.SetProjection(dataset.GetProjection())\n",
    "band = New_YG_dataset.GetRasterBand(1)\n",
    "print(New_YG_dataset)\n",
    "band.WriteArray(y_raster)\n",
    "# 这里注意，创建完成之后，需要删除，不然，后面再次打开的时候，会被占用\n",
    "del New_YG_dataset"
   ]
  }
 ],
 "metadata": {
  "kernelspec": {
   "display_name": "gee",
   "language": "python",
   "name": "python3"
  },
  "language_info": {
   "codemirror_mode": {
    "name": "ipython",
    "version": 3
   },
   "file_extension": ".py",
   "mimetype": "text/x-python",
   "name": "python",
   "nbconvert_exporter": "python",
   "pygments_lexer": "ipython3",
   "version": "3.10.8"
  },
  "vscode": {
   "interpreter": {
    "hash": "60ff94249d9c6a776918f22895d1fe167c9e1c64b359acede9a5119325ce65d2"
   }
  }
 },
 "nbformat": 4,
 "nbformat_minor": 5
}
